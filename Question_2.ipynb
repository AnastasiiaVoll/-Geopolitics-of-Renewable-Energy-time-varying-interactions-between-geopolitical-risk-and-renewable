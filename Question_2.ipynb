{
  "nbformat": 4,
  "nbformat_minor": 0,
  "metadata": {
    "colab": {
      "provenance": [],
      "authorship_tag": "ABX9TyM3X9pD6lsnbhJ3DtEvXZo6",
      "include_colab_link": true
    },
    "kernelspec": {
      "name": "python3",
      "display_name": "Python 3"
    },
    "language_info": {
      "name": "python"
    }
  },
  "cells": [
    {
      "cell_type": "markdown",
      "metadata": {
        "id": "view-in-github",
        "colab_type": "text"
      },
      "source": [
        "<a href=\"https://colab.research.google.com/github/AnastasiiaVoll/-Geopolitics-of-Renewable-Energy-time-varying-interactions-between-geopolitical-risk-and-renewable/blob/main/Question_2.ipynb\" target=\"_parent\"><img src=\"https://colab.research.google.com/assets/colab-badge.svg\" alt=\"Open In Colab\"/></a>"
      ]
    },
    {
      "cell_type": "code",
      "source": [
        "pip install pandas statsmodels"
      ],
      "metadata": {
        "id": "5oL_O9ePvHXp",
        "colab": {
          "base_uri": "https://localhost:8080/",
          "height": 0
        },
        "outputId": "ef33fc3e-12b0-4632-d0ef-444085a0166e"
      },
      "execution_count": 35,
      "outputs": [
        {
          "output_type": "stream",
          "name": "stdout",
          "text": [
            "Requirement already satisfied: pandas in /usr/local/lib/python3.10/dist-packages (1.5.3)\n",
            "Requirement already satisfied: statsmodels in /usr/local/lib/python3.10/dist-packages (0.14.0)\n",
            "Requirement already satisfied: python-dateutil>=2.8.1 in /usr/local/lib/python3.10/dist-packages (from pandas) (2.8.2)\n",
            "Requirement already satisfied: pytz>=2020.1 in /usr/local/lib/python3.10/dist-packages (from pandas) (2023.3.post1)\n",
            "Requirement already satisfied: numpy>=1.21.0 in /usr/local/lib/python3.10/dist-packages (from pandas) (1.23.5)\n",
            "Requirement already satisfied: scipy!=1.9.2,>=1.4 in /usr/local/lib/python3.10/dist-packages (from statsmodels) (1.11.2)\n",
            "Requirement already satisfied: patsy>=0.5.2 in /usr/local/lib/python3.10/dist-packages (from statsmodels) (0.5.3)\n",
            "Requirement already satisfied: packaging>=21.3 in /usr/local/lib/python3.10/dist-packages (from statsmodels) (23.1)\n",
            "Requirement already satisfied: six in /usr/local/lib/python3.10/dist-packages (from patsy>=0.5.2->statsmodels) (1.16.0)\n"
          ]
        }
      ]
    },
    {
      "cell_type": "code",
      "source": [
        "import pandas as pd\n",
        "import numpy as np\n",
        "import statsmodels.api as sm\n",
        "from scipy.stats import t as t_dist\n",
        "from scipy import stats\n",
        "import statsmodels.api as sm\n",
        "\n",
        "# Load data\n",
        "df = pd.read_csv('EGCPrices.csv')"
      ],
      "metadata": {
        "id": "YMOtj34QzLSk"
      },
      "execution_count": 51,
      "outputs": []
    },
    {
      "cell_type": "code",
      "source": [
        "# Create the logarithm of the coal, gas, and electricity price\n",
        "df['pc_t'] = np.log(df['P_Coal'])\n",
        "df['pg_t'] = np.log(df['P_Gas'])\n",
        "df['pe_t'] = np.log(df['P_Ele'])\n",
        "\n",
        "# Create lagged variables\n",
        "df['pc_t-1'] = df['pc_t'].shift(1)\n",
        "df['pg_t-1'] = df['pg_t'].shift(1)\n",
        "df['pe_t-1'] = df['pe_t'].shift(1)"
      ],
      "metadata": {
        "id": "QXVovbPhzN1O"
      },
      "execution_count": 52,
      "outputs": []
    },
    {
      "cell_type": "code",
      "source": [
        "# Filter data between February 1st, 2015 and December 31st, 2019\n",
        "start_date = \"2015-02-01\"\n",
        "end_date = \"2019-12-31\"\n",
        "mask = (pd.to_datetime(df[['year', 'month', 'day']]) >= start_date) & (pd.to_datetime(df[['year', 'month', 'day']]) <= end_date)\n",
        "df_filtered = df[mask].copy()\n",
        "\n",
        "# Drop missing values (due to lag creation)\n",
        "df_filtered = df_filtered.dropna()"
      ],
      "metadata": {
        "id": "gJlIa2cWzU7q"
      },
      "execution_count": 53,
      "outputs": []
    },
    {
      "cell_type": "code",
      "source": [
        "## (a1)\n",
        "# Define independent and dependent variables\n",
        "X = df_filtered[['pg_t-1', 'pe_t', 'pe_t-1', 'pc_t', 'pc_t-1']]\n",
        "X = sm.add_constant(X)\n",
        "y = df_filtered['pg_t']\n",
        "\n",
        "# Fit the regression model\n",
        "model = sm.OLS(y, X).fit()\n",
        "print(model.summary())"
      ],
      "metadata": {
        "id": "i_-l6OzLza-g",
        "colab": {
          "base_uri": "https://localhost:8080/",
          "height": 0
        },
        "outputId": "e92f40ba-fa79-43d4-8c95-4e96364a94e7"
      },
      "execution_count": 54,
      "outputs": [
        {
          "output_type": "stream",
          "name": "stdout",
          "text": [
            "                            OLS Regression Results                            \n",
            "==============================================================================\n",
            "Dep. Variable:                   pg_t   R-squared:                       0.977\n",
            "Model:                            OLS   Adj. R-squared:                  0.977\n",
            "Method:                 Least Squares   F-statistic:                 1.512e+04\n",
            "Date:                Thu, 28 Sep 2023   Prob (F-statistic):               0.00\n",
            "Time:                        17:38:00   Log-Likelihood:                 3218.0\n",
            "No. Observations:                1795   AIC:                            -6424.\n",
            "Df Residuals:                    1789   BIC:                            -6391.\n",
            "Df Model:                           5                                         \n",
            "Covariance Type:            nonrobust                                         \n",
            "==============================================================================\n",
            "                 coef    std err          t      P>|t|      [0.025      0.975]\n",
            "------------------------------------------------------------------------------\n",
            "const         -0.0059      0.017     -0.336      0.737      -0.040       0.028\n",
            "pg_t-1         0.9829      0.005    189.818      0.000       0.973       0.993\n",
            "pe_t          -0.0015      0.007     -0.212      0.832      -0.016       0.013\n",
            "pe_t-1        -0.0029      0.007     -0.402      0.688      -0.017       0.011\n",
            "pc_t           0.3129      0.069      4.531      0.000       0.177       0.448\n",
            "pc_t-1        -0.2963      0.069     -4.275      0.000      -0.432      -0.160\n",
            "==============================================================================\n",
            "Omnibus:                     2388.703   Durbin-Watson:                   2.262\n",
            "Prob(Omnibus):                  0.000   Jarque-Bera (JB):          3875326.692\n",
            "Skew:                          -6.452   Prob(JB):                         0.00\n",
            "Kurtosis:                     230.263   Cond. No.                         871.\n",
            "==============================================================================\n",
            "\n",
            "Notes:\n",
            "[1] Standard Errors assume that the covariance matrix of the errors is correctly specified.\n"
          ]
        }
      ]
    },
    {
      "cell_type": "code",
      "source": [
        "## (a2)\n",
        "# Compute t statistic for the hypothesis that beta4 equals -beta5\n",
        "beta4 = model.params['pc_t']\n",
        "beta5 = model.params['pc_t-1']\n",
        "var_beta4 = model.cov_params().loc['pc_t', 'pc_t']\n",
        "var_beta5 = model.cov_params().loc['pc_t-1', 'pc_t-1']\n",
        "cov_beta4_beta5 = model.cov_params().loc['pc_t', 'pc_t-1']\n",
        "\n",
        "t_stat = (beta4 + beta5) / np.sqrt(var_beta4 + var_beta5 + 2 * cov_beta4_beta5)\n",
        "print(f\"T statistic: {t_stat}\")\n",
        "\n",
        "## (a2)\n",
        "# Exact test\n",
        "df = len(df_filtered) - 6  # subtracting the number of parameters, including the intercept\n",
        "p_value_exact = 2 * (1 - t_dist.cdf(np.abs(t_stat), df))\n",
        "print(f\"P-value (exact test): {p_value_exact}\")\n"
      ],
      "metadata": {
        "colab": {
          "base_uri": "https://localhost:8080/",
          "height": 0
        },
        "id": "l69KqvFW0Wz8",
        "outputId": "e602f8c4-348a-49e0-c72b-966baa57e498"
      },
      "execution_count": 55,
      "outputs": [
        {
          "output_type": "stream",
          "name": "stdout",
          "text": [
            "T statistic: 3.20400911686291\n",
            "P-value (exact test): 0.0013791465533374847\n"
          ]
        }
      ]
    },
    {
      "cell_type": "code",
      "source": [
        "##(a3)\n",
        "n_bootstrap = 1000\n",
        "bootstrap_t_stats = []\n",
        "\n",
        "residuals = model.resid\n",
        "\n",
        "for _ in range(n_bootstrap):\n",
        "    # Sample residuals with replacement\n",
        "    residuals_resample = np.random.choice(residuals, size=len(residuals))\n",
        "    y_resample = model.predict(X) + residuals_resample\n",
        "\n",
        "    model_resample = sm.OLS(y_resample, X).fit()\n",
        "\n",
        "    beta4_resample = model_resample.params['pc_t']\n",
        "    beta5_resample = model_resample.params['pc_t-1']\n",
        "    var_beta4_resample = model_resample.cov_params().loc['pc_t', 'pc_t']\n",
        "    var_beta5_resample = model_resample.cov_params().loc['pc_t-1', 'pc_t-1']\n",
        "    cov_beta4_beta5_resample = model_resample.cov_params().loc['pc_t', 'pc_t-1']\n",
        "\n",
        "    t_stat_resample = (beta4_resample + beta5_resample) / np.sqrt(var_beta4_resample + var_beta5_resample + 2 * cov_beta4_beta5_resample)\n",
        "    bootstrap_t_stats.append(t_stat_resample)\n",
        "\n",
        "# Computing the results\n",
        "p_value_bootstrap = np.mean(np.abs(bootstrap_t_stats) > np.abs(t_stat))\n",
        "critical_value_90 = np.percentile(bootstrap_t_stats, [5, 95])  # for two-tailed test at alpha = 0.10\n",
        "mean_t_stat_bootstrap = np.mean(bootstrap_t_stats)\n",
        "std_t_stat_bootstrap = np.std(bootstrap_t_stats)\n",
        "\n",
        "# Printing out the results\n",
        "print(f\"Mean T-statistic (bootstrap): {mean_t_stat_bootstrap}\")\n",
        "print(f\"Standard Deviation of T-statistic (bootstrap): {std_t_stat_bootstrap}\")\n",
        "print(f\"P-value (bootstrap): {p_value_bootstrap}\")\n",
        "print(f\"Critical Values for 90% Confidence (bootstrap): {critical_value_90}\")\n",
        "print(f\"Original T-statistic: {t_stat}\")\n"
      ],
      "metadata": {
        "colab": {
          "base_uri": "https://localhost:8080/",
          "height": 0
        },
        "id": "pzCf_gxV1L0t",
        "outputId": "87c13735-802b-4ae0-e3a6-6e13d8f7b9f3"
      },
      "execution_count": 56,
      "outputs": [
        {
          "output_type": "stream",
          "name": "stdout",
          "text": [
            "Mean T-statistic (bootstrap): 3.3222160261649414\n",
            "Standard Deviation of T-statistic (bootstrap): 1.1903381804894109\n",
            "P-value (bootstrap): 0.542\n",
            "Critical Values for 90% Confidence (bootstrap): [1.38410547 5.23939097]\n",
            "Original T-statistic: 3.20400911686291\n"
          ]
        }
      ]
    },
    {
      "cell_type": "code",
      "source": [
        "## (b1)\n",
        "# Create year dummies\n",
        "df_filtered['year'] = df_filtered['year'].astype(str)\n",
        "year_dummies = pd.get_dummies(df_filtered['year'], prefix='year', drop_first=True)\n",
        "\n",
        "# Extend the dataset with year dummies\n",
        "X_extended = pd.concat([X, year_dummies], axis=1)\n",
        "\n",
        "# Estimate the extended model\n",
        "model_extended = sm.OLS(Y, X_extended).fit()\n",
        "print(model_extended.summary())\n"
      ],
      "metadata": {
        "colab": {
          "base_uri": "https://localhost:8080/",
          "height": 0
        },
        "id": "wr9skcKg2d9Q",
        "outputId": "0c8ea7ac-573f-4b66-c8e5-3373f37f7bb8"
      },
      "execution_count": 57,
      "outputs": [
        {
          "output_type": "stream",
          "name": "stdout",
          "text": [
            "                            OLS Regression Results                            \n",
            "==============================================================================\n",
            "Dep. Variable:                   pg_t   R-squared:                       0.977\n",
            "Model:                            OLS   Adj. R-squared:                  0.977\n",
            "Method:                 Least Squares   F-statistic:                     8546.\n",
            "Date:                Thu, 28 Sep 2023   Prob (F-statistic):               0.00\n",
            "Time:                        17:38:04   Log-Likelihood:                 3234.9\n",
            "No. Observations:                1795   AIC:                            -6450.\n",
            "Df Residuals:                    1785   BIC:                            -6395.\n",
            "Df Model:                           9                                         \n",
            "Covariance Type:            nonrobust                                         \n",
            "==============================================================================\n",
            "                 coef    std err          t      P>|t|      [0.025      0.975]\n",
            "------------------------------------------------------------------------------\n",
            "const         -0.0287      0.028     -1.029      0.304      -0.083       0.026\n",
            "pg_t-1         0.9465      0.008    112.928      0.000       0.930       0.963\n",
            "pe_t           0.0019      0.007      0.253      0.800      -0.013       0.017\n",
            "pe_t-1        -0.0006      0.007     -0.076      0.939      -0.015       0.014\n",
            "pc_t           0.3061      0.069      4.460      0.000       0.171       0.441\n",
            "pc_t-1        -0.2607      0.069     -3.771      0.000      -0.396      -0.125\n",
            "year_2016     -0.0188      0.004     -4.592      0.000      -0.027      -0.011\n",
            "year_2017     -0.0247      0.005     -4.744      0.000      -0.035      -0.014\n",
            "year_2018     -0.0147      0.005     -3.003      0.003      -0.024      -0.005\n",
            "year_2019     -0.0270      0.005     -5.415      0.000      -0.037      -0.017\n",
            "==============================================================================\n",
            "Omnibus:                     2172.436   Durbin-Watson:                   2.226\n",
            "Prob(Omnibus):                  0.000   Jarque-Bera (JB):          3164740.523\n",
            "Skew:                          -5.338   Prob(JB):                         0.00\n",
            "Kurtosis:                     208.427   Cond. No.                         875.\n",
            "==============================================================================\n",
            "\n",
            "Notes:\n",
            "[1] Standard Errors assume that the covariance matrix of the errors is correctly specified.\n"
          ]
        }
      ]
    },
    {
      "cell_type": "code",
      "source": [
        "## (b2)\n",
        "n_bootstrap = 1000\n",
        "f_statistics = []\n",
        "\n",
        "residuals_extended = model_extended.resid\n",
        "y_fitted_extended = model_extended.fittedvalues\n",
        "\n",
        "for _ in range(n_bootstrap):\n",
        "    # Sample residuals with replacement\n",
        "    residuals_resample = np.random.choice(residuals_extended, size=len(residuals_extended))\n",
        "    y_resample = y_fitted_extended + residuals_resample\n",
        "\n",
        "    # Refit models on resampled data\n",
        "    model_original_resample = sm.OLS(y_resample, X).fit()\n",
        "    model_extended_resample = sm.OLS(y_resample, X_extended).fit()\n",
        "\n",
        "    # Calculate F-statistic\n",
        "    rss_restricted = sum(model_original_resample.resid**2)\n",
        "    rss_unrestricted = sum(model_extended_resample.resid**2)\n",
        "    df_restricted = len(Y) - X.shape[1]\n",
        "    df_unrestricted = len(Y) - X_extended.shape[1]\n",
        "    f_stat = ((rss_restricted - rss_unrestricted) / (df_restricted - df_unrestricted)) / (rss_unrestricted / df_unrestricted)\n",
        "    f_statistics.append(f_stat)\n",
        "\n",
        "# Calculate p-value from F-statistics\n",
        "p_value_f_test = np.mean(np.array(f_statistics) >= model_extended.fvalue)\n",
        "print(f\"P-value from parametric bootstrap F-test: {p_value_f_test}\")\n",
        "\n"
      ],
      "metadata": {
        "colab": {
          "base_uri": "https://localhost:8080/",
          "height": 0
        },
        "id": "vjtPvxa-2jqX",
        "outputId": "ad1e0b15-1307-4ee4-9f46-d950a224f587"
      },
      "execution_count": 58,
      "outputs": [
        {
          "output_type": "stream",
          "name": "stdout",
          "text": [
            "P-value from parametric bootstrap F-test: 0.0\n"
          ]
        }
      ]
    }
  ]
}